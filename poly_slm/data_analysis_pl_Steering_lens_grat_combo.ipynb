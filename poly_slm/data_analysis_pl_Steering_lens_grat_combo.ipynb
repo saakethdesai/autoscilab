{
 "cells": [
  {
   "cell_type": "code",
   "execution_count": 1,
   "metadata": {},
   "outputs": [],
   "source": [
    "import numpy as np\n",
    "import matplotlib.pyplot as plt\n",
    "import pickle\n",
    "from ipywidgets import interact"
   ]
  },
  {
   "cell_type": "code",
   "execution_count": 2,
   "metadata": {},
   "outputs": [],
   "source": [
    "det_pos = np.arange(-5,5.5,1)\n",
    "poly_slm_filepaths= r\"C:\\Users\\ppadma\\git_repo\\Experimental_datasets\\ultrafast_pl_steer\\poly_slm\\meta02f_poly_pump800_pump950_20221024_165931_poly_brute_force_at_det_pos_\"\n",
    "#r\"C:\\Users\\ppadma\\git_repo\\Experimental_datasets\\ultrafast_pl_steer\\poly_slm\\meta02r_poly_pump800_pump950_20221022_113606_poly_brute_force_at_det_pos_\"\n",
    "#apvae_filepaths= r\"C:\\Users\\ppadma\\git_repo\\Experimental_datasets\\ultrafast_pl_steer\\aperiodic_ld4_vae_random\\Meta11_brute_combined_apld4_20221017_105536_Total_dataset_at_\"\n",
    "poly_slm_dataset = []\n",
    "#ap_vae_dataset = []\n",
    "\n",
    "for pos in det_pos:\n",
    "    temp = pickle.load(open(f'{poly_slm_filepaths}{pos}mm.p','rb'))\n",
    "    poly_slm_dataset.append(temp)\n",
    "    #temp = pickle.load(open(f'{apvae_filepaths}{pos}mm.p','rb'))\n",
    "    #ap_vae_dataset.append(temp)\n",
    "    "
   ]
  },
  {
   "cell_type": "code",
   "execution_count": 4,
   "metadata": {},
   "outputs": [
    {
     "data": {
      "application/vnd.jupyter.widget-view+json": {
       "model_id": "f797236985084e629cf5423667dd30ed",
       "version_major": 2,
       "version_minor": 0
      },
      "text/plain": [
       "interactive(children=(IntSlider(value=5, description='quadratic', max=30, min=-30), IntSlider(value=2, descrip…"
      ]
     },
     "metadata": {},
     "output_type": "display_data"
    }
   ],
   "source": [
    "res_x = 3840\n",
    "res_y = 2160\n",
    "\n",
    "slm_x, slm_y = np.meshgrid(np.arange(0,res_x),np.arange(0,res_y))\n",
    "\n",
    "def poly_slm_function(quadratic=5, linear=2):\n",
    "\n",
    "\n",
    "\n",
    "    # slope = np.random.normal(loc=0, scale= 1)\n",
    "    # offset =np.random.normal(loc=0, scale= modulator)\n",
    "\n",
    "    modulator = 2 * np.pi\n",
    "\n",
    "    x_norm = (slm_x) / (res_x )\n",
    "\n",
    "    phase_profile = ((quadratic * (x_norm) ** 2 + linear * (x_norm)) % modulator) / modulator\n",
    "    # self.phase_profile -= np.min(self.phase_profile)\n",
    "    # self.phase_profile/=np.max(self.phase_profile)\n",
    "\n",
    "    final_phase = np.round((2 ** 8 - 1) * (phase_profile)).astype('uint8')\n",
    "\n",
    "    plt.imshow(phase_profile)\n",
    "    plt.colorbar()\n",
    "    \n",
    "show_slm = interact(poly_slm_function,quadratic=(-30,30,1),linear=(-40,40,1))"
   ]
  },
  {
   "cell_type": "code",
   "execution_count": 6,
   "metadata": {},
   "outputs": [
    {
     "data": {
      "application/vnd.jupyter.widget-view+json": {
       "model_id": "c2673cb67e3049e6b37ac16306c0675c",
       "version_major": 2,
       "version_minor": 0
      },
      "text/plain": [
       "interactive(children=(IntSlider(value=5, description='idx', max=10), Output()), _dom_classes=('widget-interact…"
      ]
     },
     "metadata": {},
     "output_type": "display_data"
    }
   ],
   "source": [
    "\n",
    "quads = np.linspace(-40, 40, 81, endpoint=True)\n",
    "lines = np.linspace(-30, 30, 31, endpoint=True)\n",
    "xx,yy = np.meshgrid(quads,lines)\n",
    "\n",
    "def show_plots(idx):\n",
    "    test = np.array(poly_slm_dataset[idx]['query_results']+[0]).reshape(81,31).T\n",
    "    plt.pcolormesh(xx,yy,test,shading='auto')\n",
    "    plt.title(f\"Detector Position {det_pos[idx]}mm\")\n",
    "    plt.ylabel(\"Quadratic\")\n",
    "    plt.axvline(x=0,linestyle='--',c='white')\n",
    "    plt.axhline(y=0,linestyle='--',c='white')\n",
    "    plt.xlabel(\"Linear\")\n",
    "    plt.colorbar()\n",
    "plots = interact(show_plots,idx=(0,10))"
   ]
  }
 ],
 "metadata": {
  "kernelspec": {
   "display_name": "Python 3",
   "language": "python",
   "name": "python3"
  },
  "language_info": {
   "codemirror_mode": {
    "name": "ipython",
    "version": 3
   },
   "file_extension": ".py",
   "mimetype": "text/x-python",
   "name": "python",
   "nbconvert_exporter": "python",
   "pygments_lexer": "ipython3",
   "version": "3.8.5"
  },
  "vscode": {
   "interpreter": {
    "hash": "e89c14b1d970f287b769adb2982dea5ab2653d8d76f024ce7461c42c795b3180"
   }
  }
 },
 "nbformat": 4,
 "nbformat_minor": 4
}
